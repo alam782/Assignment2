{
 "cells": [
  {
   "cell_type": "markdown",
   "metadata": {},
   "source": [
    "# ucs"
   ]
  },
  {
   "cell_type": "code",
   "execution_count": 1,
   "metadata": {},
   "outputs": [
    {
     "name": "stdout",
     "output_type": "stream",
     "text": [
      "(9, 6)\n"
     ]
    }
   ],
   "source": [
    "from heapq import heappush, heappop, heapify\n",
    "\n",
    "def UCS(graph,start,goal):\n",
    "  explored=[]\n",
    "  pq=[]\n",
    "  heapify(pq)\n",
    "  heappush(pq, (0, start))\n",
    "  while len(pq)>0:\n",
    "    current=heappop(pq)\n",
    "    if current[1]==goal:\n",
    "      return current\n",
    "    else:\n",
    "      explored.append(current[1])\n",
    "      for edge in graph[current[1]-1]:\n",
    "        if not edge[0] in explored:\n",
    "          heappush(pq,(edge[1]+current[0],edge[0]))\n",
    "\n",
    "graph=[[[1,0],[3,2]],[[2,1],[4,5]],[[3,0],[5,7],[6,7]],[[4,0],[5,4]],[[5,0],[6,3]],[[6,0],[4,3]]]\n",
    "print(UCS(graph,1,6))"
   ]
  },
  {
   "cell_type": "markdown",
   "metadata": {},
   "source": [
    "# dfs"
   ]
  },
  {
   "cell_type": "code",
   "execution_count": 2,
   "metadata": {},
   "outputs": [
    {
     "name": "stdout",
     "output_type": "stream",
     "text": [
      "0\n",
      "2\n",
      "3\n",
      "1\n"
     ]
    }
   ],
   "source": [
    "def main():  \n",
    "     \n",
    "    matrix = [[0,  1,  1,  0],\n",
    "              [0,  0,  1,  0],\n",
    "              [1,  0,  0,  1],\n",
    "              [0,  0,  0,  1]]\n",
    " \n",
    "    \n",
    "    visited = [0,0,0,0]\n",
    "    stack = [0] \n",
    "    visited[0] = 1\n",
    "\n",
    "    node = stack.pop(len(stack) - 1);\n",
    "    print(node)\n",
    " \n",
    "    while True:\n",
    "        for x in range (0, len(visited)):\n",
    " \n",
    "                        \n",
    "            if matrix[node][x] == 1 and visited[x] == 0:\n",
    "               \n",
    "                visited[x] = 1;\n",
    "                \n",
    "                stack.append(x)\n",
    "        \n",
    "        if len(stack) == 0:\n",
    " \n",
    "            break;\n",
    " \n",
    "        else:\n",
    "                      \n",
    "            node = stack.pop(len(stack) - 1)\n",
    "            print(node)\n",
    "     \n",
    "if __name__ == \"__main__\":\n",
    "    main()"
   ]
  },
  {
   "cell_type": "markdown",
   "metadata": {},
   "source": [
    "# bfs"
   ]
  },
  {
   "cell_type": "code",
   "execution_count": null,
   "metadata": {},
   "outputs": [],
   "source": [
    "def main():  \n",
    "\n",
    "       \n",
    "    matrix = [[0,1,1,0],\n",
    "                  [0,0,1,0],\n",
    "                  [1,0,0,1],\n",
    "                  [0,0,0,1]];\n",
    "\n",
    "    visited = [0,0,0,0]\n",
    "\n",
    "    queue = [0]\n",
    "    visited[0] = 1\n",
    "\n",
    "\n",
    "    node = queue.pop(0);\n",
    "    print node\n",
    "    \n",
    "    while True:\n",
    "\n",
    "        for x in range (0, len(visited)):\n",
    "\n",
    "                \n",
    "            if matrix[node][x] == 1 and visited[x] == 0:\n",
    "                \n",
    "                visited[x] = 1;\n",
    "\n",
    "                queue.append(x)\n",
    "\n",
    "        if len(queue) == 0:\n",
    "            break;\n",
    "\n",
    "        else:\n",
    "\n",
    "                       \n",
    "            node = queue.pop(0)\n",
    "            print node\n",
    "            \n",
    "if __name__ == \"__main__\":\n",
    "    main()"
   ]
  }
 ],
 "metadata": {
  "kernelspec": {
   "display_name": "Python 3",
   "language": "python",
   "name": "python3"
  },
  "language_info": {
   "codemirror_mode": {
    "name": "ipython",
    "version": 3
   },
   "file_extension": ".py",
   "mimetype": "text/x-python",
   "name": "python",
   "nbconvert_exporter": "python",
   "pygments_lexer": "ipython3",
   "version": "3.7.3"
  }
 },
 "nbformat": 4,
 "nbformat_minor": 2
}
